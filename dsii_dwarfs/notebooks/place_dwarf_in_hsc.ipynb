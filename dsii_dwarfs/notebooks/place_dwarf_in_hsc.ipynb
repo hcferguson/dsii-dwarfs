{
 "cells": [
  {
   "cell_type": "code",
   "execution_count": 4,
   "metadata": {},
   "outputs": [
    {
     "ename": "ModuleNotFoundError",
     "evalue": "No module named 'imf'",
     "output_type": "error",
     "traceback": [
      "\u001b[0;31m---------------------------------------------------------------------------\u001b[0m",
      "\u001b[0;31mModuleNotFoundError\u001b[0m                       Traceback (most recent call last)",
      "\u001b[0;32m<ipython-input-4-dc5bbd1f84d1>\u001b[0m in \u001b[0;36m<module>\u001b[0;34m\u001b[0m\n\u001b[1;32m     24\u001b[0m \u001b[0;34m\u001b[0m\u001b[0m\n\u001b[1;32m     25\u001b[0m \u001b[0;34m\u001b[0m\u001b[0m\n\u001b[0;32m---> 26\u001b[0;31m from dsii_dwarfs.make_galaxies import (SimulateRandomDwarfElliptical, convolve_fft, cosmo, do_find_nearest, find_nearest, \n\u001b[0m\u001b[1;32m     27\u001b[0m                                        rebin, observed_cts_per_sec, NoisePicker, modeling)\n\u001b[1;32m     28\u001b[0m \u001b[0;34m\u001b[0m\u001b[0m\n",
      "\u001b[0;32m~/project/local/harry/dwarf/dsii_dwarfs/dsii_dwarfs/make_galaxies.py\u001b[0m in \u001b[0;36m<module>\u001b[0;34m\u001b[0m\n\u001b[1;32m     13\u001b[0m \u001b[0;32mfrom\u001b[0m \u001b[0mastropy\u001b[0m\u001b[0;34m.\u001b[0m\u001b[0mio\u001b[0m \u001b[0;32mimport\u001b[0m \u001b[0mfits\u001b[0m\u001b[0;34m\u001b[0m\u001b[0;34m\u001b[0m\u001b[0m\n\u001b[1;32m     14\u001b[0m \u001b[0;34m\u001b[0m\u001b[0m\n\u001b[0;32m---> 15\u001b[0;31m \u001b[0;32mimport\u001b[0m \u001b[0mimf\u001b[0m \u001b[0;31m# https://github.com/keflavich/imf\u001b[0m\u001b[0;34m\u001b[0m\u001b[0;34m\u001b[0m\u001b[0m\n\u001b[0m\u001b[1;32m     16\u001b[0m \u001b[0;34m\u001b[0m\u001b[0m\n\u001b[1;32m     17\u001b[0m \u001b[0;32mfrom\u001b[0m \u001b[0;34m.\u001b[0m\u001b[0maxial_ratio_picker\u001b[0m \u001b[0;32mimport\u001b[0m \u001b[0mAxialRatioPDF\u001b[0m\u001b[0;34m\u001b[0m\u001b[0;34m\u001b[0m\u001b[0m\n",
      "\u001b[0;31mModuleNotFoundError\u001b[0m: No module named 'imf'"
     ]
    }
   ],
   "source": [
    "import os\n",
    "from os import system \n",
    "import requests\n",
    "from glob import glob\n",
    "\n",
    "import warnings\n",
    "\n",
    "from math import factorial\n",
    "\n",
    "import numpy as np\n",
    "\n",
    "from scipy import integrate\n",
    "from scipy.special import gamma, gammainc\n",
    "\n",
    "\n",
    "from astropy.io import fits\n",
    "from astropy.modeling import models, fitting\n",
    "from astropy.table import Table\n",
    "from astropy import stats\n",
    "from astropy.wcs import WCS\n",
    "from astropy import utils\n",
    "from astropy.convolution import convolve_fft\n",
    "from astropy.stats import sigma_clipped_stats\n",
    "\n",
    "\n",
    "from dsii_dwarfs.make_galaxies import (SimulateRandomDwarfElliptical, convolve_fft, cosmo, do_find_nearest, find_nearest, \n",
    "                                       rebin, observed_cts_per_sec, NoisePicker, modeling)\n",
    "\n",
    "from dsii_dwarfs.psf_picker import HSCMoffatPSFPicker"
   ]
  },
  {
   "cell_type": "code",
   "execution_count": null,
   "metadata": {},
   "outputs": [],
   "source": [
    "pwd"
   ]
  },
  {
   "cell_type": "code",
   "execution_count": 4,
   "metadata": {},
   "outputs": [],
   "source": [
    "# Matplotlib\n",
    "# Visualization\n",
    "import astropy.visualization as vis\n",
    "\n",
    "%matplotlib inline\n",
    "from matplotlib import pyplot as plt\n",
    "import matplotlib.patches as patches"
   ]
  },
  {
   "cell_type": "markdown",
   "metadata": {},
   "source": [
    "# Parameters"
   ]
  },
  {
   "cell_type": "code",
   "execution_count": 5,
   "metadata": {},
   "outputs": [],
   "source": [
    "# https://hsc-release.mtk.nao.ac.jp username and passowrd\n",
    "#!!!!!!!!!!!!!!!!!!!!!!!!!!!!!!!!!!!!#\n",
    "#! Reset to empty string after use! !#\n",
    "#!!!!!!!!!!!!!!!!!!!!!!!!!!!!!!!!!!!!#\n",
    "\n",
    "username = 'robelgeda'\n",
    "password = 'kjopuLR3xW8sHyaviBhoKgCDjxYopSnGLUIAUS+n'\n",
    "\n",
    "\n",
    "# Input Paths\n",
    "# -----------\n",
    "# Top level HSC folder path:\n",
    "hsc_top_path = \"/Users/rgeda/project/local/harry/dwarf/data/s16a_deep\" \n",
    "\n",
    "\n",
    "# Output and Temp Paths\n",
    "# ---------------------\n",
    "# Output path:\n",
    "output_path = \"/Users/rgeda/project/local/harry/dwarf/data/outputs\"\n",
    "\n",
    "# Temp folder to store temporary files:\n",
    "temp_path = \"/Users/rgeda/project/local/harry/dwarf/data/temp\"\n",
    "\n",
    "# Dwarf Params\n",
    "# -------------\n",
    "npix = 256*2 # Must be even\n",
    "min_number_dward_per_patch = 3\n",
    "max_number_dward_per_patch = 5\n",
    "\n",
    "# Patch padding: sets the margins of where the dwarfs will be placed\n",
    "# So a patch_padding of 100 pixels will insure all dwarfs will be palced \n",
    "# 100 pixels within the HSC patch images.\n",
    "patch_padding = npix + 2 # Pixels\n"
   ]
  },
  {
   "cell_type": "code",
   "execution_count": 6,
   "metadata": {},
   "outputs": [],
   "source": [
    "# User must create paths to avoid mistakes\n",
    "assert os.path.isdir(hsc_top_path)\n",
    "assert os.path.isdir(output_path)\n",
    "assert os.path.isdir(temp_path)"
   ]
  },
  {
   "cell_type": "markdown",
   "metadata": {},
   "source": [
    "# File Base"
   ]
  },
  {
   "cell_type": "markdown",
   "metadata": {},
   "source": [
    "Find all HSC patch image files and organize them into patchs"
   ]
  },
  {
   "cell_type": "code",
   "execution_count": 7,
   "metadata": {},
   "outputs": [],
   "source": [
    "class HSCPatch():\n",
    "    \"\"\"\n",
    "    Holds information about the location of image \n",
    "    files for each path. \n",
    "    Each patch has a g, i, r, y and z band image.\n",
    "    Each patch needs to be set by accssing the attribute.\n",
    "    \n",
    "    Parameters\n",
    "    ----------\n",
    "    name : string\n",
    "        Name of patch\n",
    "        \n",
    "    \"\"\"\n",
    "    def __init__(self, name):\n",
    "        self.name = name \n",
    "        self.tract, self.patch = name.split(\"_\")\n",
    "        \n",
    "        self.g = None # Path to g band image \n",
    "        self.i = None # Path to i band image \n",
    "        self.r = None # Path to r band image \n",
    "        self.y = None # Path to y band image \n",
    "        self.z = None # Path to z band image \n",
    "        \n",
    "    \n",
    "    def info(self):\n",
    "        print(\"name:\\t{}\".format(name))\n",
    "        print(\"g:\\t{}\".format(self.g))\n",
    "        print(\"i:\\t{}\".format(self.i))        \n",
    "        print(\"r:\\t{}\".format(self.r))        \n",
    "        print(\"y:\\t{}\".format(self.y))        \n",
    "        print(\"z:\\t{}\".format(self.z))  \n",
    "    \n",
    "    @property\n",
    "    def bands(self):\n",
    "        \"\"\"\"\n",
    "        Make sure to match the following order: \n",
    "        'g','r','i','z','y'\n",
    "        \"\"\"\n",
    "        return {\n",
    "            \"g\": self.g,\n",
    "            \"r\": self.r,\n",
    "            \"i\": self.i,\n",
    "            \"z\": self.z,\n",
    "            \"y\": self.y,\n",
    "        }"
   ]
  },
  {
   "cell_type": "code",
   "execution_count": 8,
   "metadata": {},
   "outputs": [],
   "source": [
    "patch_dict = {}"
   ]
  },
  {
   "cell_type": "code",
   "execution_count": 9,
   "metadata": {},
   "outputs": [
    {
     "name": "stdout",
     "output_type": "stream",
     "text": [
      "✓ 9463_0,7\n",
      "✓ 9463_0,8\n",
      "✓ 9464_7,7\n",
      "✓ 9464_7,8\n",
      "✓ 9464_8,7\n",
      "✓ 9464_8,8\n",
      "✓ 9706_0,0\n",
      "✓ 9707_7,0\n",
      "✓ 9707_8,0\n",
      "\n",
      "Number of Patches:  9\n"
     ]
    }
   ],
   "source": [
    "fb = glob(hsc_top_path+\"/**/calexp-HSC*.gz\", recursive=True) # Filebase\n",
    "\n",
    "for f in fb:\n",
    "    \n",
    "    fbase = os.path.basename(f)\n",
    "    band, *name = fbase.split(\".\")[0].split(\"-\")[2:]\n",
    "    name = \"_\".join(name)\n",
    "    if name not in patch_dict:\n",
    "        patch_dict[name] = HSCPatch(name)\n",
    "    setattr(patch_dict[name], band.lower(), f)\n",
    "    \n",
    "for name in patch_dict:\n",
    "    for band in ['g', 'i', 'r', 'y', 'z']:\n",
    "        assert getattr(patch_dict[name], band) is not None, \"error, patch {} is missing {} band\".format(name, band)\n",
    "    print(\"✓ {}\".format(name))\n",
    "    \n",
    "print(\"\\nNumber of Patches: \", len(patch_dict))"
   ]
  },
  {
   "cell_type": "markdown",
   "metadata": {},
   "source": [
    "# Generate Dwarfs "
   ]
  },
  {
   "cell_type": "code",
   "execution_count": 9,
   "metadata": {},
   "outputs": [],
   "source": [
    "class DwarfSersic2D(modeling.models.Sersic2D):\n",
    "    \n",
    "    def __init__(self, *args, **kwargs):\n",
    "        super().__init__(*args, **kwargs)\n",
    "        \n",
    "        self.normalization = self.compute_normalization()\n",
    "        \n",
    "    def compute_normalization(self):\n",
    "        x = self.x_0.value \n",
    "        y = self.y_0.value\n",
    "        delta = self.r_eff.value * 8\n",
    "        return integrate.dblquad(self, x-delta, x+delta, y-delta, y+delta)[0]\n",
    "        \n",
    "    def compute_npix(self, noise_level, total_flux, max_npix=4000, oversample=5):\n",
    "        model_1d = models.Sersic1D(self.amplitude, self.r_eff, self.n)\n",
    "                \n",
    "        x = np.arange(0, max_npix//2, oversample)\n",
    "        x = x\n",
    "        \n",
    "        values = total_flux*(model_1d(x)/self.normalization)\n",
    "        \n",
    "        if noise_level > values[0]:\n",
    "            raise Exception(\"Noise too large, max noise = {}\".format(values[0]))\n",
    "            \n",
    "        if noise_level < values[-1]:\n",
    "            raise Exception(\"Noise too small, min noise = {}\".format(values[-1]))\n",
    "        \n",
    "        argmin = abs(values - noise_level).argmin()\n",
    "        \n",
    "        return int(x[argmin] * 2) \n"
   ]
  },
  {
   "cell_type": "code",
   "execution_count": 15,
   "metadata": {},
   "outputs": [],
   "source": [
    "class PSFFitSimulateDwarfElliptical(SimulateRandomDwarfElliptical):\n",
    "    def __init__(self, *args, **kwargs):\n",
    "        super().__init__(*args, **kwargs)\n",
    "        self.flux_fade_cutoff = 0.074/self.oversampling**2\n",
    "        self.Nospix = None\n",
    "            \n",
    "        \n",
    "    def simulate_HSCimage(self):\n",
    "        \"\"\" Pick a PSF for each band, convolve, downsample, and add noise \"\"\"\n",
    "        # Pick PSF section is done externally by main loop\n",
    "        \n",
    "        # Convolve with them\n",
    "        convolved_image = {}\n",
    "        for b in self.bands:\n",
    "            convolved_image[b] = convolve_fft(self.galaxy_image[b],self.psf[b])\n",
    "        # Rebin to the HSC pixel scale\n",
    "        self.noiseless_image = {}\n",
    "        nbinnedpix = int(self.Nospix/self.oversampling)\n",
    "        \n",
    "        print(nbinnedpix, convolved_image[b].shape)\n",
    "        for b in self.bands:\n",
    "            self.noiseless_image[b] = rebin(convolved_image[b],nbinnedpix,nbinnedpix)\n",
    "        # Pick noise and add it to the rebinned image\n",
    "        self.HSCimage = {}\n",
    "        npick = NoisePicker(sigma_range=(0.015,0.04))\n",
    "        self.noise_sigma = {}\n",
    "        for b in self.bands:\n",
    "            self.HSCimage[b] = self.noiseless_image[b] + \\\n",
    "                 npick.pick_noise(size=self.noiseless_image[b].shape)\n",
    "            self.noise_sigma[b] = npick.sigma\n",
    "\n",
    "    def create_mass_model(self):\n",
    "        print(\"create_mass_model\")\n",
    "        self.model = DwarfSersic2D(\n",
    "            amplitude=1,\n",
    "            r_eff=self.re_pixels,\n",
    "            n=self.sersic_index,\n",
    "            x_0=0, y_0=0,\n",
    "            ellip=self.ellipticity,theta=self.position_angle)\n",
    "        \n",
    "        \"\"\"\n",
    "        total_flux = self.mass * observed_cts_per_sec(self.smooth_flux[\"z\"],\n",
    "                                                      self.distance,self.zpt[\"z\"])\n",
    "        N  = self.model.compute_npix(self.flux_fade_cutoff, total_flux)\n",
    "        \"\"\"\n",
    "        \n",
    "        N = self.re_pixels * 2\n",
    "        \n",
    "        # Round to the nearest even number divisable by self.oversampling\n",
    "        N = int( self.oversampling * round( N / self.oversampling ))\n",
    "        \n",
    "        if int(N/self.oversampling) % 2 == 1:\n",
    "            N += int(self.oversampling)\n",
    "\n",
    "        self.Nospix = N \n",
    "        \n",
    "\n",
    "        x, y = np.meshgrid(np.arange(-N, +N), \n",
    "                           np.arange(-N, +N))\n",
    "        \n",
    "        self.normalization = self.model.normalization\n",
    "        self.model_image = self.model(x,y)/self.normalization\n",
    "        self.mass_model = self.model_image*self.mass\n",
    "        \n",
    "        self.x = x + N \n",
    "        self.y = y + N\n",
    "        \n",
    "        \n",
    "    def save_noiseless_fits(self,directory):\n",
    "        filename_template = f\"d{self.distance:.2f}_\"\n",
    "        filename_template += f\"m{self.logmass:.2f}_re{self.re_kpc:.2f}_\"\n",
    "        filename_template += f\"feh{self.feh:.1f}_age{self.age:.1f}\"\n",
    "        # Write out the noiseless image\n",
    "        noiseless_file = directory+\"/\"+filename_template+\"_noiseless.fits\"\n",
    "        noiseless_cube = np.stack([self.noiseless_image[b] for b in self.bands],axis=0)\n",
    "        hdu_noiseless = fits.PrimaryHDU(noiseless_cube)\n",
    "        self.write_header_keywords(hdu_noiseless)\n",
    "        hdu_noiseless.writeto(noiseless_file, overwrite=True)\n",
    "        return noiseless_file\n",
    "    \n",
    "    \n",
    "    "
   ]
  },
  {
   "cell_type": "code",
   "execution_count": 16,
   "metadata": {},
   "outputs": [],
   "source": [
    "def find_center(array):\n",
    "    return (np.array(array.shape)-1)/2\n",
    "\n",
    "class FitPSF():\n",
    "    def __init__(self,band,filename):\n",
    "    #Read PSF file\n",
    "        self.filename = filename \n",
    "        psf_hdu = fits.open(self.filename)\n",
    "        psf_data = psf_hdu[0].data\n",
    "    \n",
    "        # Generate grid\n",
    "        self.x, self.y = np.mgrid[:psf_data.shape[0], :psf_data.shape[1]]\n",
    "        self.z = psf_data\n",
    "    \n",
    "    def dofit(self):\n",
    "        # Fit the data using astropy.modeling\n",
    "        center_x, center_y = find_center(self.z)\n",
    "        p_init = models.Moffat2D(x_0=center_x, y_0=center_y)\n",
    "        fit_p = fitting.LevMarLSQFitter()\n",
    "        with warnings.catch_warnings():\n",
    "            # Ignore model linearity warning from the fitter\n",
    "            warnings.simplefilter('ignore')\n",
    "            self.model = fit_p(p_init, self.x, self.y, self.z)\n",
    "        print(\"Mean Residual:\", (self.z - self.model(self.x, self.y)).mean())\n",
    "        self.params = Table(data=[self.model.param_names, self.model.parameters], names=[\"param_names\", \"param_vals\"])\n",
    "        self.gamma = self.model.parameters[3]\n",
    "        self.alpha = self.model.parameters[4]\n",
    "        self.fwhm = self.model.fwhm\n",
    "    \n",
    "    def plot_results(self):\n",
    "    # Plot the data with the best-fit model\n",
    "        vmin, vmax = np.percentile(self.z,1.), np.percentile(self.z,99.)\n",
    "        print(vmin,vmax)\n",
    "        plt.figure(figsize=(20, 5))\n",
    "        plt.subplot(1, 3, 1)\n",
    "        plt.imshow(self.z, origin='lower', interpolation='nearest',vmin=vmin,vmax=vmax)\n",
    "        plt.title(\"Data\")\n",
    "        plt.subplot(1, 3, 2)\n",
    "        plt.imshow(self.model(self.x, self.y), origin='lower', interpolation='nearest',vmin=vmin,vmax=vmax)\n",
    "        plt.title(\"Model\")\n",
    "        plt.subplot(1, 3, 3)\n",
    "        plt.imshow(100.*(self.z - self.model(self.x, self.y))/self.z, origin='lower', interpolation='nearest',\n",
    "                   vmin=0,vmax=100.)\n",
    "        plt.title(\"Residual in percent\")"
   ]
  },
  {
   "cell_type": "code",
   "execution_count": 17,
   "metadata": {},
   "outputs": [],
   "source": [
    "def pick_dwarf_position(num_dwarfs, naxis1, naxis2, patch):\n",
    "    \"\"\"Return a list of (x, y) pixel coords of dwarf centers\"\"\"\n",
    "    global patch_padding, npix\n",
    "    \n",
    "    assert naxis1-patch_padding > 0\n",
    "    assert naxis2-patch_padding > 0\n",
    "    \n",
    "    galaxy_pos = []\n",
    "    for i in range(num_dwarfs):\n",
    "        unique = False\n",
    "        while not unique:\n",
    "            x = np.random.randint(patch_padding, naxis1-patch_padding)\n",
    "            y = np.random.randint(patch_padding, naxis2-patch_padding)\n",
    "            \n",
    "            unique = True \n",
    "            for xi, yi in galaxy_pos:\n",
    "                dist = abs(np.linalg.norm(np.array([x, y])-np.array([xi, yi])))\n",
    "                if dist < npix:\n",
    "                    unique = False\n",
    "                    break\n",
    "                \n",
    "        galaxy_pos.append((x, y))        \n",
    "    \n",
    "    return galaxy_pos"
   ]
  },
  {
   "cell_type": "code",
   "execution_count": 18,
   "metadata": {},
   "outputs": [],
   "source": [
    "def get_psf(ra, dec, band, patch):\n",
    "    return \"/Users/rgeda/project/local/harry/dwarf/data/temp/psf_9463_0,7_{}.fits\".format(band)\n",
    "    global username, password, temp_path\n",
    "    url = 'https://hsc-release.mtk.nao.ac.jp/psf/s16a/cgi/getpsf?ra={:0.2f}&dec={:0.2f}&filter={}&rerun=s16a_deep&tract={}&patch={}&type=coadd'.format(ra, dec, band, patch.tract, patch.patch)\n",
    "\n",
    "    r = requests.get(url, auth=(username,password))\n",
    "    \n",
    "    filename = \"psf_{}_{}.fits\".format(patch.name, band)\n",
    "    filename = os.path.join(temp_path, filename)\n",
    "    if r.status_code == 200:\n",
    "        with open(filename, 'wb') as out:\n",
    "            for bits in r.iter_content():\n",
    "                out.write(bits)\n",
    "    else:\n",
    "        raise Exception(\"PSF NOT FOUND: Check link in get_psf(...)n\\Check if correct data version pdr2 or s16a.\\nURL: {}\".format(url))\n",
    "    \n",
    "    # psf = fits.getdata(filename)\n",
    "    return filename"
   ]
  },
  {
   "cell_type": "code",
   "execution_count": 19,
   "metadata": {},
   "outputs": [],
   "source": [
    "def get_new_sim():\n",
    "    print(\"SimulateRandomDwarfElliptical\")\n",
    "    sim = PSFFitSimulateDwarfElliptical(dmax=15.,MF_min=1.e5,MF_max=1.e9, npix=npix, oversampling=5)\n",
    "\n",
    "    print(\"sim.pick_galaxy\")\n",
    "    sim.pick_galaxy()\n",
    "    \n",
    "    return sim"
   ]
  },
  {
   "cell_type": "code",
   "execution_count": 20,
   "metadata": {
    "scrolled": true
   },
   "outputs": [
    {
     "name": "stdout",
     "output_type": "stream",
     "text": [
      "==================================================\n",
      "1 of 9: 9463_0,7\n",
      "Number of Dwarfs: 5\n",
      "--------------------------------------------------\n",
      "9463_0,7_351.90456_-0.25472\n",
      "get_new_sim\n",
      "SimulateRandomDwarfElliptical\n",
      "sim.pick_galaxy\n"
     ]
    },
    {
     "name": "stderr",
     "output_type": "stream",
     "text": [
      "/Users/rgeda/project/local/harry/dwarf/dsii_dwarfs/dsii_dwarfs/axial_ratio_picker.py:32: IntegrationWarning: The maximum number of subdivisions (50) has been achieved.\n",
      "  If increasing the limit yields no improvement it is advised to analyze \n",
      "  the integrand in order to determine the difficulties.  If the position of a \n",
      "  local difficulty can be determined (singularity, discontinuity) one will \n",
      "  probably gain from splitting up the interval and calling the integrator \n",
      "  on the subranges.  Perhaps a special-purpose integrator should be used.\n",
      "  cdf_samples = np.array([integrate.quad(self._pdf,0,q)[0] for q in qsamples])\n"
     ]
    },
    {
     "name": "stdout",
     "output_type": "stream",
     "text": [
      "create_mass_model\n"
     ]
    },
    {
     "ename": "NameError",
     "evalue": "name 'DwarfSersic2D' is not defined",
     "output_type": "error",
     "traceback": [
      "\u001b[0;31m---------------------------------------------------------------------------\u001b[0m",
      "\u001b[0;31mNameError\u001b[0m                                 Traceback (most recent call last)",
      "\u001b[0;32m<ipython-input-20-41f43d1107d6>\u001b[0m in \u001b[0;36m<module>\u001b[0;34m\u001b[0m\n\u001b[1;32m     35\u001b[0m \u001b[0;34m\u001b[0m\u001b[0m\n\u001b[1;32m     36\u001b[0m         \u001b[0mprint\u001b[0m\u001b[0;34m(\u001b[0m\u001b[0;34m\"get_new_sim\"\u001b[0m\u001b[0;34m)\u001b[0m\u001b[0;34m\u001b[0m\u001b[0;34m\u001b[0m\u001b[0m\n\u001b[0;32m---> 37\u001b[0;31m         \u001b[0msim\u001b[0m \u001b[0;34m=\u001b[0m \u001b[0mget_new_sim\u001b[0m\u001b[0;34m(\u001b[0m\u001b[0;34m)\u001b[0m\u001b[0;34m\u001b[0m\u001b[0;34m\u001b[0m\u001b[0m\n\u001b[0m\u001b[1;32m     38\u001b[0m \u001b[0;34m\u001b[0m\u001b[0m\n\u001b[1;32m     39\u001b[0m         \u001b[0mprint\u001b[0m\u001b[0;34m(\u001b[0m\u001b[0;34m\"mass: \"\u001b[0m\u001b[0;34m,\u001b[0m\u001b[0mnp\u001b[0m\u001b[0;34m.\u001b[0m\u001b[0mlog10\u001b[0m\u001b[0;34m(\u001b[0m\u001b[0msim\u001b[0m\u001b[0;34m.\u001b[0m\u001b[0mmass\u001b[0m\u001b[0;34m)\u001b[0m\u001b[0;34m)\u001b[0m\u001b[0;34m\u001b[0m\u001b[0;34m\u001b[0m\u001b[0m\n",
      "\u001b[0;32m<ipython-input-19-83cb5eba722c>\u001b[0m in \u001b[0;36mget_new_sim\u001b[0;34m()\u001b[0m\n\u001b[1;32m      4\u001b[0m \u001b[0;34m\u001b[0m\u001b[0m\n\u001b[1;32m      5\u001b[0m     \u001b[0mprint\u001b[0m\u001b[0;34m(\u001b[0m\u001b[0;34m\"sim.pick_galaxy\"\u001b[0m\u001b[0;34m)\u001b[0m\u001b[0;34m\u001b[0m\u001b[0;34m\u001b[0m\u001b[0m\n\u001b[0;32m----> 6\u001b[0;31m     \u001b[0msim\u001b[0m\u001b[0;34m.\u001b[0m\u001b[0mpick_galaxy\u001b[0m\u001b[0;34m(\u001b[0m\u001b[0;34m)\u001b[0m\u001b[0;34m\u001b[0m\u001b[0;34m\u001b[0m\u001b[0m\n\u001b[0m\u001b[1;32m      7\u001b[0m \u001b[0;34m\u001b[0m\u001b[0m\n\u001b[1;32m      8\u001b[0m     \u001b[0;32mreturn\u001b[0m \u001b[0msim\u001b[0m\u001b[0;34m\u001b[0m\u001b[0;34m\u001b[0m\u001b[0m\n",
      "\u001b[0;32m~/project/local/harry/dwarf/dsii_dwarfs/dsii_dwarfs/make_galaxies.py\u001b[0m in \u001b[0;36mpick_galaxy\u001b[0;34m(self)\u001b[0m\n\u001b[1;32m     66\u001b[0m         \u001b[0;31m# Set up the galaxy mass model\u001b[0m\u001b[0;34m\u001b[0m\u001b[0;34m\u001b[0m\u001b[0;34m\u001b[0m\u001b[0m\n\u001b[1;32m     67\u001b[0m         \u001b[0mself\u001b[0m\u001b[0;34m.\u001b[0m\u001b[0msetup_galaxy\u001b[0m\u001b[0;34m(\u001b[0m\u001b[0;34m)\u001b[0m\u001b[0;34m\u001b[0m\u001b[0;34m\u001b[0m\u001b[0m\n\u001b[0;32m---> 68\u001b[0;31m         \u001b[0mself\u001b[0m\u001b[0;34m.\u001b[0m\u001b[0mcreate_mass_model\u001b[0m\u001b[0;34m(\u001b[0m\u001b[0;34m)\u001b[0m\u001b[0;34m\u001b[0m\u001b[0;34m\u001b[0m\u001b[0m\n\u001b[0m\u001b[1;32m     69\u001b[0m \u001b[0;34m\u001b[0m\u001b[0m\n\u001b[1;32m     70\u001b[0m     \u001b[0;32mdef\u001b[0m \u001b[0mrenormalize_isochrone\u001b[0m\u001b[0;34m(\u001b[0m\u001b[0mself\u001b[0m\u001b[0;34m)\u001b[0m\u001b[0;34m:\u001b[0m\u001b[0;34m\u001b[0m\u001b[0;34m\u001b[0m\u001b[0m\n",
      "\u001b[0;32m<ipython-input-15-d0026cc16a78>\u001b[0m in \u001b[0;36mcreate_mass_model\u001b[0;34m(self)\u001b[0m\n\u001b[1;32m     32\u001b[0m     \u001b[0;32mdef\u001b[0m \u001b[0mcreate_mass_model\u001b[0m\u001b[0;34m(\u001b[0m\u001b[0mself\u001b[0m\u001b[0;34m)\u001b[0m\u001b[0;34m:\u001b[0m\u001b[0;34m\u001b[0m\u001b[0;34m\u001b[0m\u001b[0m\n\u001b[1;32m     33\u001b[0m         \u001b[0mprint\u001b[0m\u001b[0;34m(\u001b[0m\u001b[0;34m\"create_mass_model\"\u001b[0m\u001b[0;34m)\u001b[0m\u001b[0;34m\u001b[0m\u001b[0;34m\u001b[0m\u001b[0m\n\u001b[0;32m---> 34\u001b[0;31m         self.model = DwarfSersic2D(\n\u001b[0m\u001b[1;32m     35\u001b[0m             \u001b[0mamplitude\u001b[0m\u001b[0;34m=\u001b[0m\u001b[0;36m1\u001b[0m\u001b[0;34m,\u001b[0m\u001b[0;34m\u001b[0m\u001b[0;34m\u001b[0m\u001b[0m\n\u001b[1;32m     36\u001b[0m             \u001b[0mr_eff\u001b[0m\u001b[0;34m=\u001b[0m\u001b[0mself\u001b[0m\u001b[0;34m.\u001b[0m\u001b[0mre_pixels\u001b[0m\u001b[0;34m,\u001b[0m\u001b[0;34m\u001b[0m\u001b[0;34m\u001b[0m\u001b[0m\n",
      "\u001b[0;31mNameError\u001b[0m: name 'DwarfSersic2D' is not defined"
     ]
    }
   ],
   "source": [
    "\n",
    "# For each HSC path\n",
    "for count, name in enumerate(patch_dict):\n",
    "    catalog = []\n",
    "       \n",
    "    # Set basic params for this patch\n",
    "    patch = patch_dict[name]\n",
    "    num_dwarfs = np.random.randint(min_number_dward_per_patch, max_number_dward_per_patch+1)\n",
    "    \n",
    "    print(\"=\"*50)\n",
    "    print(\"{} of {}: {}\".format(count+1, len(patch_dict), name))\n",
    "    print(\"Number of Dwarfs:\", num_dwarfs)\n",
    "        \n",
    "    header = fits.getheader(patch.g, ext=1)\n",
    "    naxis1 = header[\"NAXIS1\"]\n",
    "    naxis2 = header[\"NAXIS2\"]\n",
    "    w = WCS(header)\n",
    "    \n",
    "    # Generate positions\n",
    "    galaxy_pos = pick_dwarf_position(num_dwarfs, naxis1, naxis2, patch)\n",
    "    \n",
    "    galaxy_radec = w.all_pix2world(galaxy_pos,0)\n",
    "\n",
    "    galaxy_delta_pos = []\n",
    "    \n",
    "    # Create output image\n",
    "    output_patch_data = np.zeros( (5, naxis2, naxis1) )\n",
    "    for i, (band, patch_path) in enumerate(patch.bands.items()):\n",
    "        output_patch_data[i] = fits.getdata(patch_path)\n",
    "\n",
    "    for dwarf_index, pos in enumerate(galaxy_radec):\n",
    "        print(\"-\"*50)\n",
    "        ra, dec = np.round(pos[0], 5), np.round(pos[1], 5)\n",
    "        dwarf_name = \"{}_{}_{}\".format(name, ra, dec)\n",
    "        print(dwarf_name)\n",
    "        \n",
    "        print(\"get_new_sim\")\n",
    "        sim = get_new_sim()\n",
    "            \n",
    "        print(\"mass: \",np.log10(sim.mass))\n",
    "        print(\"distance: \",sim.distance)\n",
    "        print(\"re_kpc, arcsec, pix: \",sim.re_kpc, sim.re_arcsec, sim.re_pixels)\n",
    "        print(\"[Fe/H]: \",sim.feh)\n",
    "        print(\"age: \",sim.age)\n",
    "        print(\"ellip: \",sim.ellipticity)\n",
    "        print(\"pa: \",sim.position_angle)\n",
    "        print(\"\")\n",
    "\n",
    "        print(\"sim.renormalize_isochrone\")\n",
    "        sim.renormalize_isochrone()\n",
    "\n",
    "        print(\"sim.compute_smooth_flux\")\n",
    "        sim.compute_smooth_flux()\n",
    "\n",
    "        print(\"sim.create_smooth_portion\")\n",
    "        sim.create_smooth_portion()\n",
    "        \n",
    "        print(\"sim.create_stochastic_portion()\")\n",
    "#         sim.create_stochastic_portion()\n",
    "        \n",
    "        print(\"sim.sum_components\")\n",
    "#         sim.sum_components()\n",
    "\n",
    "        print(\"PSF\")\n",
    "        results = Table([np.array([]),np.array([]),np.array([]),np.array([])],names=['band','gamma','alpha','fwhm'],\n",
    "                        dtype=['S2','f4','f4','f4'])\n",
    "        for band in patch.bands:\n",
    "            psf_path = get_psf(ra, dec, band, patch)\n",
    "            psf_fit = FitPSF(band, psf_path)\n",
    "            psf_fit.dofit()\n",
    "            results.add_row([band, psf_fit.gamma, psf_fit.alpha, psf_fit.fwhm*0.17])\n",
    "\n",
    "        sim.psf_gamma = {}\n",
    "        sim.psf_alpha = {}\n",
    "        sim.psf = {}\n",
    "        for line in results:\n",
    "            b = line['band'].lower()\n",
    "            pf = HSCMoffatPSFPicker(oversampling=sim.oversampling, gamma0=line['gamma'],alpha0=line['alpha'])\n",
    "            sim.psf_gamma[b],sim.psf_alpha[b],sim.psf[b] = pf.get_oversampled_psf()\n",
    "        \n",
    "        print(\"sim.simulate_HSCimage\")\n",
    "        sim.simulate_HSCimage()\n",
    "\n",
    "        print(\"save\")\n",
    "        noiseless_file = sim.save_noiseless_fits(output_path)\n",
    "        \n",
    "        dwarf_data = fits.getdata(noiseless_file)\n",
    "        \n",
    "        xcenter, ycenter = galaxy_pos[dwarf_index]\n",
    "        dx, dy = dwarf_data[0].shape\n",
    "#         assert dx == npix and dy == npix\n",
    "        galaxy_delta_pos.append(dx)\n",
    "        \n",
    "        for i, (band, patch_path) in enumerate(patch.bands.items()):\n",
    "            output_patch_data[i, ycenter-dy//2:ycenter+dy//2, xcenter-dx//2:xcenter+dx//2] += dwarf_data[i]      \n",
    "\n",
    "        print(\"\\n\")\n",
    "\n",
    "        \n",
    "    final_path_output_path = os.path.join(output_path, \"hsc_dwarf_sim_{}.fits\".format(patch.name))\n",
    "    \n",
    "    fits.HDUList([fits.PrimaryHDU(data=output_patch_data, header=header)]).writeto(final_path_output_path, overwrite=True)\n",
    "    \n",
    "\n",
    "    # Create figure and axes\n",
    "    fig,ax = plt.subplots(1)\n",
    "\n",
    "    # Display the image\n",
    "    ax.imshow(output_patch_data[0]-fits.getdata(patch.g), vmax=0.39, vmin=0, origin='lower',)\n",
    "\n",
    "    # Create a Rectangle patch\n",
    "    for i, (x,y) in enumerate(galaxy_pos):\n",
    "        dx = galaxy_delta_pos[i]\n",
    "        rect = patches.Rectangle((x-dx//2, y-dx//2),dx,dx,linewidth=0.1,edgecolor='r',facecolor='none')\n",
    "        # Add the patch to the Axes\n",
    "        ax.add_patch(rect)\n",
    "    # Create a Rectangle patch\n",
    "    for i, (x,y) in enumerate(galaxy_pos):\n",
    "        dx = 256\n",
    "        rect = patches.Rectangle((x-dx//2, y-dx//2),dx,dx,linewidth=0.5,linestyle=\"--\",edgecolor='r',facecolor='none')\n",
    "        # Add the patch to the Axes\n",
    "        ax.add_patch(rect)\n",
    "\n",
    "    plt.show()\n",
    "    image_output_path = os.path.join(output_path, \"hsc_dwarf_sim_{}_dwarfs_only.png\".format(patch.name))\n",
    "    fig.savefig(image_output_path, dpi=1000)\n",
    "    \n",
    "    \n",
    "    # Create figure and axes\n",
    "    fig,ax = plt.subplots(1)\n",
    "\n",
    "    # Display the image\n",
    "    ax.imshow(output_patch_data[0], vmax=0.39, vmin=0, origin='lower',)\n",
    "\n",
    "    # Create a Rectangle patch\n",
    "    for i, (x,y) in enumerate(galaxy_pos):\n",
    "        dx = galaxy_delta_pos[i]\n",
    "        rect = patches.Rectangle((x-dx//2, y-dx//2),dx,dx,linewidth=0.1,edgecolor='r',facecolor='none')\n",
    "        # Add the patch to the Axes\n",
    "        ax.add_patch(rect)\n",
    "    # Create a Rectangle patch\n",
    "    for i, (x,y) in enumerate(galaxy_pos):\n",
    "        dx = 256\n",
    "        rect = patches.Rectangle((x-dx//2, y-dx//2),dx,dx,linewidth=0.5,linestyle=\"--\",edgecolor='r',facecolor='none')\n",
    "        # Add the patch to the Axes\n",
    "        ax.add_patch(rect)\n",
    "\n",
    "    plt.show()\n",
    "    image_output_path = os.path.join(output_path, \"hsc_dwarf_sim_{}.png\".format(patch.name))\n",
    "    fig.savefig(image_output_path, dpi=1000)\n",
    "    \n",
    "    # Exact \n",
    "    for i, pos in enumerate(galaxy_pos):\n",
    "        xcenter, ycenter = pos\n",
    "        dx = dy = galaxy_delta_pos[i]\n",
    "        tl = (xcenter+dx//2, ycenter+dy//2)\n",
    "        tr = (xcenter-dx//2, ycenter+dy//2)\n",
    "        br = (xcenter-dx//2, ycenter-dy//2)\n",
    "        bl = (xcenter+dx//2, ycenter-dy//2)\n",
    "        catalog.append([final_path_output_path, *tl, *tr, *br, *bl, ycenter*naxis2+(naxis2-xcenter)]) #  Last value used for sorting\n",
    "    \n",
    "    table_output_path = os.path.join(output_path, \"hsc_dwarf_sim_{}_exact.csv\".format(patch.name))\n",
    "    catalog_table = Table(np.array(catalog))\n",
    "    catalog_table.sort(catalog_table.colnames[-1], reverse=True)\n",
    "    catalog_table.remove_column(catalog_table.colnames[-1])\n",
    "    catalog_table.write(table_output_path, format=\"ascii.csv\", overwrite=True)\n",
    "    \n",
    "    \n",
    "    # 256\n",
    "    for i, pos in enumerate(galaxy_pos):\n",
    "        xcenter, ycenter = pos\n",
    "        dx = dy = 256\n",
    "        tl = (xcenter+dx//2, ycenter+dy//2)\n",
    "        tr = (xcenter-dx//2, ycenter+dy//2)\n",
    "        br = (xcenter-dx//2, ycenter-dy//2)\n",
    "        bl = (xcenter+dx//2, ycenter-dy//2)\n",
    "        catalog.append([final_path_output_path, *tl, *tr, *br, *bl, ycenter*naxis2+(naxis2-xcenter)]) #  Last value used for sorting\n",
    "    \n",
    "    table_output_path = os.path.join(output_path, \"hsc_dwarf_sim_{}_256.csv\".format(patch.name))\n",
    "    catalog_table = Table(np.array(catalog))\n",
    "    catalog_table.sort(catalog_table.colnames[-1], reverse=True)\n",
    "    catalog_table.remove_column(catalog_table.colnames[-1])\n",
    "    catalog_table.write(table_output_path, format=\"ascii.csv\", overwrite=True)\n",
    "    \n",
    "    \n",
    "\n",
    "\n",
    "    # print(self.position_angle, self.redshift, self.re_arcsec , self.re_pixels)"
   ]
  },
  {
   "cell_type": "code",
   "execution_count": null,
   "metadata": {},
   "outputs": [],
   "source": [
    "sim.re_pixels, sim.Nospix, sim.Nospix/sim.oversampling"
   ]
  },
  {
   "cell_type": "code",
   "execution_count": 42,
   "metadata": {},
   "outputs": [
    {
     "data": {
      "text/plain": [
       "1280"
      ]
     },
     "execution_count": 42,
     "metadata": {},
     "output_type": "execute_result"
    }
   ],
   "source": []
  },
  {
   "cell_type": "code",
   "execution_count": null,
   "metadata": {},
   "outputs": [],
   "source": [
    "plt.imshow(sim.galaxy_image['z'])"
   ]
  },
  {
   "cell_type": "code",
   "execution_count": null,
   "metadata": {},
   "outputs": [],
   "source": [
    "plt.imshow(dwarf_data[0])"
   ]
  },
  {
   "cell_type": "code",
   "execution_count": 11,
   "metadata": {},
   "outputs": [
    {
     "name": "stdout",
     "output_type": "stream",
     "text": [
      "/Users/rgeda/project/local/harry/dwarf/data/outputs\n"
     ]
    }
   ],
   "source": [
    "cd /Users/rgeda/project/local/harry/dwarf/data/outputs"
   ]
  },
  {
   "cell_type": "code",
   "execution_count": 14,
   "metadata": {},
   "outputs": [
    {
     "name": "stdout",
     "output_type": "stream",
     "text": [
      "0 9 9463_0,7\n",
      "0\n",
      "1 9 9463_0,8\n",
      "0\n",
      "2 9 9464_7,7\n",
      "0\n",
      "3 9 9464_7,8\n",
      "0\n",
      "4 9 9464_8,7\n",
      "0\n",
      "5 9 9464_8,8\n",
      "0\n",
      "6 9 9706_0,0\n",
      "0\n",
      "7 9 9707_7,0\n",
      "256\n",
      "8 9 9707_8,0\n",
      "256\n"
     ]
    }
   ],
   "source": [
    "# Zip all files\n",
    "for count, name in enumerate(patch_dict):\n",
    "    print(count, len(patch_dict), name)\n",
    "    patch = patch_dict[name]\n",
    "    tar_path = \"hsc_dwarf_sim_{}\".format(patch.name)#os.path.join(output_path, \"hsc_dwarf_sim_{}\".format(patch.name))\n",
    "    print(os.system(\"tar -cvzf {}.tar.gz {}*\".format(tar_path, tar_path, output_path)))"
   ]
  },
  {
   "cell_type": "markdown",
   "metadata": {},
   "source": [
    "# Tests "
   ]
  },
  {
   "cell_type": "code",
   "execution_count": null,
   "metadata": {},
   "outputs": [],
   "source": [
    "# Create figure and axes\n",
    "fig,ax = plt.subplots(1)\n",
    "\n",
    "# Display the image\n",
    "ax.imshow(output_patch_data[0]-fits.getdata(patch.g), vmax=0.39, vmin=0, origin='lower',)\n",
    "\n",
    "# Create a Rectangle patch\n",
    "for x,y in galaxy_pos:\n",
    "    rect = patches.Rectangle((x-dx//2, y-dy//2),npix,npix,linewidth=1,edgecolor='r',facecolor='none')\n",
    "\n",
    "\n",
    "    # Add the patch to the Axes\n",
    "    ax.add_patch(rect)\n",
    "\n",
    "plt.show()\n",
    "fig.savefig(\"./stamps_robel/targ_subt.png\",dpi=1000)\n"
   ]
  },
  {
   "cell_type": "code",
   "execution_count": null,
   "metadata": {},
   "outputs": [],
   "source": []
  },
  {
   "cell_type": "code",
   "execution_count": null,
   "metadata": {},
   "outputs": [],
   "source": [
    "# Create figure and axes\n",
    "fig,ax = plt.subplots(1)\n",
    "\n",
    "# Display the image\n",
    "ax.imshow(output_patch_data[0], vmax=0.39, vmin=0, origin='lower')\n",
    "\n",
    "# Create a Rectangle patch\n",
    "for x,y in galaxy_pos:\n",
    "    rect = patches.Rectangle((x-dx//2, y-dy//2),npix,npix,linewidth=1,edgecolor='r',facecolor='none')\n",
    "\n",
    "    # Add the patch to the Axes\n",
    "    ax.add_patch(rect)\n",
    "\n",
    "plt.show()\n",
    "fig.savefig(\"./stamps_robel/targ.png\",dpi=1000)"
   ]
  },
  {
   "cell_type": "code",
   "execution_count": null,
   "metadata": {},
   "outputs": [],
   "source": [
    "psf = get_psf(galaxy_radec[0][0], galaxy_radec[0][1], \"g\", patch)\n",
    "plt.imshow(psf.data)"
   ]
  },
  {
   "cell_type": "code",
   "execution_count": null,
   "metadata": {},
   "outputs": [],
   "source": [
    "\n",
    "# Create figure and axes\n",
    "fig,ax = plt.subplots(1)\n",
    "\n",
    "# Display the image\n",
    "ax.imshow(data, vmax=0.39, vmin=0, origin='lower')\n",
    "\n",
    "# Create a Rectangle patch\n",
    "for x,y in galaxy_pos:\n",
    "    rect = patches.Rectangle((x-256/2,y-256/2),256,256,linewidth=1,edgecolor='r',facecolor='none')\n",
    "\n",
    "    # Add the patch to the Axes\n",
    "    ax.add_patch(rect)\n",
    "\n",
    "plt.show()\n",
    "fig.savefig(\"./stamps_robel/targ.png\",dpi=1000)"
   ]
  },
  {
   "cell_type": "code",
   "execution_count": null,
   "metadata": {},
   "outputs": [],
   "source": [
    "\n",
    "tar_path = os.path.join(output_path, \"hsc_dwarf_sim_{}\".format(patch.name))\n",
    "os.system(\"tar -cvzf {}.tar.gz {}*\".format(tar_path, tar_path))"
   ]
  },
  {
   "cell_type": "code",
   "execution_count": null,
   "metadata": {},
   "outputs": [],
   "source": []
  },
  {
   "cell_type": "code",
   "execution_count": null,
   "metadata": {},
   "outputs": [],
   "source": []
  },
  {
   "cell_type": "code",
   "execution_count": null,
   "metadata": {},
   "outputs": [],
   "source": [
    "\n",
    "def observed_cts_per_sec(isochrone_flux,lumdist,zpt=27.0):\n",
    "    zptflux = 10.**(zpt/2.5)\n",
    "    distratio = lumdist *1.e6/10.  # lumdist is in Mpc, isochrone is computed for 10 parsecs\n",
    "    return isochrone_flux*zptflux/distratio**2"
   ]
  },
  {
   "cell_type": "code",
   "execution_count": null,
   "metadata": {},
   "outputs": [],
   "source": [
    "from astropy.stats import sigma_clipped_stats"
   ]
  },
  {
   "cell_type": "code",
   "execution_count": 66,
   "metadata": {},
   "outputs": [],
   "source": [
    "p = patch_dict['9463_0,7']"
   ]
  },
  {
   "cell_type": "code",
   "execution_count": 67,
   "metadata": {},
   "outputs": [],
   "source": [
    "z_data = fits.getdata(p.z)"
   ]
  },
  {
   "cell_type": "code",
   "execution_count": 68,
   "metadata": {},
   "outputs": [
    {
     "data": {
      "text/plain": [
       "<matplotlib.image.AxesImage at 0x11a48def0>"
      ]
     },
     "execution_count": 68,
     "metadata": {},
     "output_type": "execute_result"
    },
    {
     "data": {
      "image/png": "[encoded data removed]",
      "text/plain": [
       "<Figure size 432x288 with 1 Axes>"
      ]
     },
     "metadata": {
      "needs_background": "light"
     },
     "output_type": "display_data"
    }
   ],
   "source": [
    "plt.imshow(z_data[10:50, 0:100])"
   ]
  },
  {
   "cell_type": "code",
   "execution_count": 71,
   "metadata": {},
   "outputs": [],
   "source": [
    "std = sigma_clipped_stats(z_data[10:50, 0:50])"
   ]
  },
  {
   "cell_type": "code",
   "execution_count": 72,
   "metadata": {},
   "outputs": [
    {
     "data": {
      "text/plain": [
       "(0.012410842, 0.009950412, 0.074147396)"
      ]
     },
     "execution_count": 72,
     "metadata": {},
     "output_type": "execute_result"
    }
   ],
   "source": [
    "std"
   ]
  },
  {
   "cell_type": "code",
   "execution_count": 73,
   "metadata": {},
   "outputs": [
    {
     "data": {
      "text/plain": [
       "-0.23751263"
      ]
     },
     "execution_count": 73,
     "metadata": {},
     "output_type": "execute_result"
    }
   ],
   "source": [
    "z_data[10:50, 0:100].min()"
   ]
  },
  {
   "cell_type": "code",
   "execution_count": null,
   "metadata": {},
   "outputs": [],
   "source": [
    "cutoff_value = std/2 /25\n",
    "cutoff_value"
   ]
  },
  {
   "cell_type": "code",
   "execution_count": 31,
   "metadata": {},
   "outputs": [
    {
     "data": {
      "text/plain": [
       "(0.005599524557217157, 8.605929668320766, 27.0)"
      ]
     },
     "execution_count": 31,
     "metadata": {},
     "output_type": "execute_result"
    }
   ],
   "source": [
    "sim.smooth_flux['z'], sim.distance, sim.zpt['z']"
   ]
  },
  {
   "cell_type": "code",
   "execution_count": 32,
   "metadata": {},
   "outputs": [
    {
     "data": {
      "text/plain": [
       "0.00047704084829118895"
      ]
     },
     "execution_count": 32,
     "metadata": {},
     "output_type": "execute_result"
    }
   ],
   "source": [
    "observed_cts_per_sec(sim.smooth_flux['z'],sim.distance,sim.zpt[b])"
   ]
  },
  {
   "cell_type": "code",
   "execution_count": null,
   "metadata": {},
   "outputs": [],
   "source": [
    "from dsii_dwarfs.make_galaxies import __file__ as fkss"
   ]
  },
  {
   "cell_type": "code",
   "execution_count": null,
   "metadata": {},
   "outputs": [],
   "source": [
    "fkss"
   ]
  },
  {
   "cell_type": "code",
   "execution_count": 27,
   "metadata": {
    "scrolled": true
   },
   "outputs": [
    {
     "ename": "ValueError",
     "evalue": "cannot reshape array of size 2 into shape (1,)",
     "output_type": "error",
     "traceback": [
      "\u001b[0;31m---------------------------------------------------------------------------\u001b[0m",
      "\u001b[0;31mValueError\u001b[0m                                Traceback (most recent call last)",
      "\u001b[0;32m<ipython-input-27-f02741015553>\u001b[0m in \u001b[0;36m<module>\u001b[0;34m\u001b[0m\n\u001b[0;32m----> 1\u001b[0;31m \u001b[0msim\u001b[0m\u001b[0;34m.\u001b[0m\u001b[0mmodel\u001b[0m\u001b[0;34m.\u001b[0m\u001b[0m__call__\u001b[0m\u001b[0;34m(\u001b[0m\u001b[0mnp\u001b[0m\u001b[0;34m.\u001b[0m\u001b[0marray\u001b[0m\u001b[0;34m(\u001b[0m\u001b[0;34m[\u001b[0m\u001b[0;36m1.1\u001b[0m\u001b[0;34m]\u001b[0m\u001b[0;34m)\u001b[0m\u001b[0;34m,\u001b[0m \u001b[0mnp\u001b[0m\u001b[0;34m.\u001b[0m\u001b[0marray\u001b[0m\u001b[0;34m(\u001b[0m\u001b[0;34m[\u001b[0m\u001b[0;36m2\u001b[0m\u001b[0;34m,\u001b[0m\u001b[0;36m3\u001b[0m\u001b[0;34m]\u001b[0m\u001b[0;34m)\u001b[0m\u001b[0;34m)\u001b[0m\u001b[0;34m\u001b[0m\u001b[0;34m\u001b[0m\u001b[0m\n\u001b[0m",
      "\u001b[0;32m~/miniconda3/envs/astroconda/lib/python3.7/site-packages/astropy/modeling/core.py\u001b[0m in \u001b[0;36m__call__\u001b[0;34m(self, x, y, model_set_axis, with_bounding_box, fill_value, equivalencies)\u001b[0m\n\u001b[1;32m    381\u001b[0m                                      \u001b[0;34m(\u001b[0m\u001b[0;34m'with_bounding_box'\u001b[0m\u001b[0;34m,\u001b[0m \u001b[0;32mFalse\u001b[0m\u001b[0;34m)\u001b[0m\u001b[0;34m,\u001b[0m\u001b[0;34m\u001b[0m\u001b[0;34m\u001b[0m\u001b[0m\n\u001b[1;32m    382\u001b[0m                                      \u001b[0;34m(\u001b[0m\u001b[0;34m'fill_value'\u001b[0m\u001b[0;34m,\u001b[0m \u001b[0mnp\u001b[0m\u001b[0;34m.\u001b[0m\u001b[0mnan\u001b[0m\u001b[0;34m)\u001b[0m\u001b[0;34m,\u001b[0m\u001b[0;34m\u001b[0m\u001b[0;34m\u001b[0m\u001b[0m\n\u001b[0;32m--> 383\u001b[0;31m                                      ('equivalencies', None)])\n\u001b[0m\u001b[1;32m    384\u001b[0m \u001b[0;34m\u001b[0m\u001b[0m\n\u001b[1;32m    385\u001b[0m             \u001b[0;31m# The following makes it look like __call__ was defined in the class\u001b[0m\u001b[0;34m\u001b[0m\u001b[0;34m\u001b[0m\u001b[0;34m\u001b[0m\u001b[0m\n",
      "\u001b[0;32m~/miniconda3/envs/astroconda/lib/python3.7/site-packages/astropy/modeling/core.py\u001b[0m in \u001b[0;36m__call__\u001b[0;34m(self, *inputs, **kwargs)\u001b[0m\n\u001b[1;32m    362\u001b[0m             \u001b[0;32mdef\u001b[0m \u001b[0m__call__\u001b[0m\u001b[0;34m(\u001b[0m\u001b[0mself\u001b[0m\u001b[0;34m,\u001b[0m \u001b[0;34m*\u001b[0m\u001b[0minputs\u001b[0m\u001b[0;34m,\u001b[0m \u001b[0;34m**\u001b[0m\u001b[0mkwargs\u001b[0m\u001b[0;34m)\u001b[0m\u001b[0;34m:\u001b[0m\u001b[0;34m\u001b[0m\u001b[0;34m\u001b[0m\u001b[0m\n\u001b[1;32m    363\u001b[0m                 \u001b[0;34m\"\"\"Evaluate this model on the supplied inputs.\"\"\"\u001b[0m\u001b[0;34m\u001b[0m\u001b[0;34m\u001b[0m\u001b[0m\n\u001b[0;32m--> 364\u001b[0;31m                 \u001b[0;32mreturn\u001b[0m \u001b[0msuper\u001b[0m\u001b[0;34m(\u001b[0m\u001b[0mcls\u001b[0m\u001b[0;34m,\u001b[0m \u001b[0mself\u001b[0m\u001b[0;34m)\u001b[0m\u001b[0;34m.\u001b[0m\u001b[0m__call__\u001b[0m\u001b[0;34m(\u001b[0m\u001b[0;34m*\u001b[0m\u001b[0minputs\u001b[0m\u001b[0;34m,\u001b[0m \u001b[0;34m**\u001b[0m\u001b[0mkwargs\u001b[0m\u001b[0;34m)\u001b[0m\u001b[0;34m\u001b[0m\u001b[0;34m\u001b[0m\u001b[0m\n\u001b[0m\u001b[1;32m    365\u001b[0m \u001b[0;34m\u001b[0m\u001b[0m\n\u001b[1;32m    366\u001b[0m             \u001b[0;31m# When called, models can take two optional keyword arguments:\u001b[0m\u001b[0;34m\u001b[0m\u001b[0;34m\u001b[0m\u001b[0;34m\u001b[0m\u001b[0m\n",
      "\u001b[0;32m~/miniconda3/envs/astroconda/lib/python3.7/site-packages/astropy/modeling/core.py\u001b[0m in \u001b[0;36m__call__\u001b[0;34m(self, *inputs, **kwargs)\u001b[0m\n\u001b[1;32m    818\u001b[0m             \u001b[0moutputs\u001b[0m \u001b[0;34m=\u001b[0m \u001b[0;34m(\u001b[0m\u001b[0moutputs\u001b[0m\u001b[0;34m,\u001b[0m\u001b[0;34m)\u001b[0m\u001b[0;34m\u001b[0m\u001b[0;34m\u001b[0m\u001b[0m\n\u001b[1;32m    819\u001b[0m \u001b[0;34m\u001b[0m\u001b[0m\n\u001b[0;32m--> 820\u001b[0;31m         \u001b[0moutputs\u001b[0m \u001b[0;34m=\u001b[0m \u001b[0mself\u001b[0m\u001b[0;34m.\u001b[0m\u001b[0mprepare_outputs\u001b[0m\u001b[0;34m(\u001b[0m\u001b[0mformat_info\u001b[0m\u001b[0;34m,\u001b[0m \u001b[0;34m*\u001b[0m\u001b[0moutputs\u001b[0m\u001b[0;34m,\u001b[0m \u001b[0;34m**\u001b[0m\u001b[0mkwargs\u001b[0m\u001b[0;34m)\u001b[0m\u001b[0;34m\u001b[0m\u001b[0;34m\u001b[0m\u001b[0m\n\u001b[0m\u001b[1;32m    821\u001b[0m \u001b[0;34m\u001b[0m\u001b[0m\n\u001b[1;32m    822\u001b[0m         \u001b[0moutputs\u001b[0m \u001b[0;34m=\u001b[0m \u001b[0mself\u001b[0m\u001b[0;34m.\u001b[0m\u001b[0m_process_output_units\u001b[0m\u001b[0;34m(\u001b[0m\u001b[0minputs\u001b[0m\u001b[0;34m,\u001b[0m \u001b[0moutputs\u001b[0m\u001b[0;34m)\u001b[0m\u001b[0;34m\u001b[0m\u001b[0;34m\u001b[0m\u001b[0m\n",
      "\u001b[0;32m~/miniconda3/envs/astroconda/lib/python3.7/site-packages/astropy/modeling/core.py\u001b[0m in \u001b[0;36mprepare_outputs\u001b[0;34m(self, format_info, *outputs, **kwargs)\u001b[0m\n\u001b[1;32m   1596\u001b[0m \u001b[0;34m\u001b[0m\u001b[0m\n\u001b[1;32m   1597\u001b[0m         \u001b[0;32mif\u001b[0m \u001b[0mlen\u001b[0m\u001b[0;34m(\u001b[0m\u001b[0mself\u001b[0m\u001b[0;34m)\u001b[0m \u001b[0;34m==\u001b[0m \u001b[0;36m1\u001b[0m\u001b[0;34m:\u001b[0m\u001b[0;34m\u001b[0m\u001b[0;34m\u001b[0m\u001b[0m\n\u001b[0;32m-> 1598\u001b[0;31m             \u001b[0;32mreturn\u001b[0m \u001b[0m_prepare_outputs_single_model\u001b[0m\u001b[0;34m(\u001b[0m\u001b[0mself\u001b[0m\u001b[0;34m,\u001b[0m \u001b[0moutputs\u001b[0m\u001b[0;34m,\u001b[0m \u001b[0mformat_info\u001b[0m\u001b[0;34m)\u001b[0m\u001b[0;34m\u001b[0m\u001b[0;34m\u001b[0m\u001b[0m\n\u001b[0m\u001b[1;32m   1599\u001b[0m         \u001b[0;32melse\u001b[0m\u001b[0;34m:\u001b[0m\u001b[0;34m\u001b[0m\u001b[0;34m\u001b[0m\u001b[0m\n\u001b[1;32m   1600\u001b[0m             \u001b[0;32mreturn\u001b[0m \u001b[0m_prepare_outputs_model_set\u001b[0m\u001b[0;34m(\u001b[0m\u001b[0mself\u001b[0m\u001b[0;34m,\u001b[0m \u001b[0moutputs\u001b[0m\u001b[0;34m,\u001b[0m \u001b[0mformat_info\u001b[0m\u001b[0;34m,\u001b[0m \u001b[0mmodel_set_axis\u001b[0m\u001b[0;34m)\u001b[0m\u001b[0;34m\u001b[0m\u001b[0;34m\u001b[0m\u001b[0m\n",
      "\u001b[0;32m~/miniconda3/envs/astroconda/lib/python3.7/site-packages/astropy/modeling/core.py\u001b[0m in \u001b[0;36m_prepare_outputs_single_model\u001b[0;34m(model, outputs, format_info)\u001b[0m\n\u001b[1;32m   3299\u001b[0m                 \u001b[0moutputs\u001b[0m\u001b[0;34m[\u001b[0m\u001b[0midx\u001b[0m\u001b[0;34m]\u001b[0m \u001b[0;34m=\u001b[0m \u001b[0moutput\u001b[0m\u001b[0;34m.\u001b[0m\u001b[0mitem\u001b[0m\u001b[0;34m(\u001b[0m\u001b[0;34m)\u001b[0m\u001b[0;34m\u001b[0m\u001b[0;34m\u001b[0m\u001b[0m\n\u001b[1;32m   3300\u001b[0m             \u001b[0;32melse\u001b[0m\u001b[0;34m:\u001b[0m\u001b[0;34m\u001b[0m\u001b[0;34m\u001b[0m\u001b[0m\n\u001b[0;32m-> 3301\u001b[0;31m                 \u001b[0moutputs\u001b[0m\u001b[0;34m[\u001b[0m\u001b[0midx\u001b[0m\u001b[0;34m]\u001b[0m \u001b[0;34m=\u001b[0m \u001b[0moutput\u001b[0m\u001b[0;34m.\u001b[0m\u001b[0mreshape\u001b[0m\u001b[0;34m(\u001b[0m\u001b[0mbroadcast_shape\u001b[0m\u001b[0;34m)\u001b[0m\u001b[0;34m\u001b[0m\u001b[0;34m\u001b[0m\u001b[0m\n\u001b[0m\u001b[1;32m   3302\u001b[0m \u001b[0;34m\u001b[0m\u001b[0m\n\u001b[1;32m   3303\u001b[0m     \u001b[0;32mreturn\u001b[0m \u001b[0mtuple\u001b[0m\u001b[0;34m(\u001b[0m\u001b[0moutputs\u001b[0m\u001b[0;34m)\u001b[0m\u001b[0;34m\u001b[0m\u001b[0;34m\u001b[0m\u001b[0m\n",
      "\u001b[0;31mValueError\u001b[0m: cannot reshape array of size 2 into shape (1,)"
     ]
    }
   ],
   "source": [
    "sim.model.__call__(np.array([1.1]), np.array([2,3]))"
   ]
  },
  {
   "cell_type": "code",
   "execution_count": 34,
   "metadata": {},
   "outputs": [
    {
     "ename": "NameError",
     "evalue": "name 'salpeter' is not defined",
     "output_type": "error",
     "traceback": [
      "\u001b[0;31m---------------------------------------------------------------------------\u001b[0m",
      "\u001b[0;31mNameError\u001b[0m                                 Traceback (most recent call last)",
      "\u001b[0;32m<ipython-input-34-672465442294>\u001b[0m in \u001b[0;36m<module>\u001b[0;34m\u001b[0m\n\u001b[0;32m----> 1\u001b[0;31m \u001b[0mintegrate\u001b[0m\u001b[0;34m.\u001b[0m\u001b[0mquad\u001b[0m\u001b[0;34m(\u001b[0m\u001b[0msalpeter\u001b[0m\u001b[0;34m,\u001b[0m \u001b[0ma\u001b[0m\u001b[0;34m=\u001b[0m\u001b[0;36m0.01\u001b[0m\u001b[0;34m,\u001b[0m \u001b[0mb\u001b[0m\u001b[0;34m=\u001b[0m\u001b[0;36m100.\u001b[0m\u001b[0;34m)\u001b[0m\u001b[0;34m\u001b[0m\u001b[0;34m\u001b[0m\u001b[0m\n\u001b[0m",
      "\u001b[0;31mNameError\u001b[0m: name 'salpeter' is not defined"
     ]
    }
   ],
   "source": [
    "integrate.quad(salpeter, a=0.01, b=100.)"
   ]
  },
  {
   "cell_type": "code",
   "execution_count": 50,
   "metadata": {},
   "outputs": [
    {
     "name": "stdout",
     "output_type": "stream",
     "text": [
      "128.3221574589809\n"
     ]
    },
    {
     "data": {
      "image/png": "[encoded data removed]",
      "text/plain": [
       "<Figure size 432x288 with 1 Axes>"
      ]
     },
     "metadata": {
      "needs_background": "light"
     },
     "output_type": "display_data"
    }
   ],
   "source": [
    "x = np.arange(0, sim.model1D.r_eff.value*10,10)\n",
    "y = sim.model1D(x)\n",
    "plt.plot(x,y)\n",
    "print(sum(y))"
   ]
  },
  {
   "cell_type": "code",
   "execution_count": 99,
   "metadata": {},
   "outputs": [
    {
     "name": "stdout",
     "output_type": "stream",
     "text": [
      "SimulateRandomDwarfElliptical\n",
      "sim.pick_galaxy\n"
     ]
    },
    {
     "name": "stderr",
     "output_type": "stream",
     "text": [
      "/Users/rgeda/project/local/harry/dwarf/dsii_dwarfs/dsii_dwarfs/axial_ratio_picker.py:32: IntegrationWarning: The maximum number of subdivisions (50) has been achieved.\n",
      "  If increasing the limit yields no improvement it is advised to analyze \n",
      "  the integrand in order to determine the difficulties.  If the position of a \n",
      "  local difficulty can be determined (singularity, discontinuity) one will \n",
      "  probably gain from splitting up the interval and calling the integrator \n",
      "  on the subranges.  Perhaps a special-purpose integrator should be used.\n",
      "  cdf_samples = np.array([integrate.quad(self._pdf,0,q)[0] for q in qsamples])\n"
     ]
    }
   ],
   "source": [
    "print(\"SimulateRandomDwarfElliptical\")\n",
    "sim = PSFFitSimulateDwarfElliptical(dmax=15.,MF_min=1.e5,MF_max=1.e9, npix=npix)\n",
    "\n",
    "print(\"sim.pick_galaxy\")\n",
    "sim.pick_galaxy()\n"
   ]
  },
  {
   "cell_type": "code",
   "execution_count": 155,
   "metadata": {},
   "outputs": [],
   "source": [
    " sim.model1D = modeling.models.Sersic1D(\n",
    "            amplitude=1,\n",
    "            r_eff=sim.re_pixels,\n",
    "            n=sim.sersic_index\n",
    "        )"
   ]
  },
  {
   "cell_type": "code",
   "execution_count": 156,
   "metadata": {},
   "outputs": [
    {
     "data": {
      "text/plain": [
       "(1586.5127751655573, 6.67049666429121e-06)"
      ]
     },
     "execution_count": 156,
     "metadata": {},
     "output_type": "execute_result"
    }
   ],
   "source": [
    "integrate.quad(sim.model1D, a=0., b=sim.model1D.r_eff.value*10)"
   ]
  },
  {
   "cell_type": "code",
   "execution_count": 157,
   "metadata": {},
   "outputs": [
    {
     "data": {
      "text/plain": [
       "(1586.1531410084626, 1.760983737729108e-11)"
      ]
     },
     "execution_count": 157,
     "metadata": {},
     "output_type": "execute_result"
    }
   ],
   "source": [
    "integrate.quad(sim.model1D, a=0., b=sim.model1D.r_eff.value*5)"
   ]
  },
  {
   "cell_type": "code",
   "execution_count": 154,
   "metadata": {},
   "outputs": [
    {
     "ename": "AttributeError",
     "evalue": "'PSFFitSimulateDwarfElliptical' object has no attribute 'model1D'",
     "output_type": "error",
     "traceback": [
      "\u001b[0;31m---------------------------------------------------------------------------\u001b[0m",
      "\u001b[0;31mAttributeError\u001b[0m                            Traceback (most recent call last)",
      "\u001b[0;32m<ipython-input-154-f83767efb5d4>\u001b[0m in \u001b[0;36m<module>\u001b[0;34m\u001b[0m\n\u001b[0;32m----> 1\u001b[0;31m \u001b[0mintegrate\u001b[0m\u001b[0;34m.\u001b[0m\u001b[0mquad\u001b[0m\u001b[0;34m(\u001b[0m\u001b[0msim\u001b[0m\u001b[0;34m.\u001b[0m\u001b[0mmodel1D\u001b[0m\u001b[0;34m,\u001b[0m \u001b[0ma\u001b[0m\u001b[0;34m=\u001b[0m\u001b[0;36m0.\u001b[0m\u001b[0;34m,\u001b[0m \u001b[0mb\u001b[0m\u001b[0;34m=\u001b[0m\u001b[0msim\u001b[0m\u001b[0;34m.\u001b[0m\u001b[0mmodel1D\u001b[0m\u001b[0;34m.\u001b[0m\u001b[0mr_eff\u001b[0m\u001b[0;34m.\u001b[0m\u001b[0mvalue\u001b[0m\u001b[0;34m*\u001b[0m\u001b[0;36m4\u001b[0m\u001b[0;34m)\u001b[0m\u001b[0;34m\u001b[0m\u001b[0;34m\u001b[0m\u001b[0m\n\u001b[0m",
      "\u001b[0;31mAttributeError\u001b[0m: 'PSFFitSimulateDwarfElliptical' object has no attribute 'model1D'"
     ]
    }
   ],
   "source": [
    "integrate.quad(sim.model1D, a=0., b=sim.model1D.r_eff.value*4)"
   ]
  },
  {
   "cell_type": "code",
   "execution_count": 153,
   "metadata": {},
   "outputs": [
    {
     "data": {
      "text/plain": [
       "46605.58873773231"
      ]
     },
     "execution_count": 153,
     "metadata": {},
     "output_type": "execute_result"
    }
   ],
   "source": [
    "sim.mass*observed_cts_per_sec(sim.smooth_flux['z'],sim.distance,sim.zpt['z'])"
   ]
  },
  {
   "cell_type": "code",
   "execution_count": 191,
   "metadata": {},
   "outputs": [],
   "source": [
    "pixel_array = np.arange(0, 5000, 1)\n",
    "pixel_values = sim.mass*observed_cts_per_sec(sim.smooth_flux['z'],sim.distance,sim.zpt['z'])/integrate.quad(sim.model1D, a=0., b=sim.model1D.r_eff.value*5)[0] * sim.model1D(pixel_array)"
   ]
  },
  {
   "cell_type": "code",
   "execution_count": 192,
   "metadata": {},
   "outputs": [
    {
     "data": {
      "text/plain": [
       "[<matplotlib.lines.Line2D at 0x11ab531d0>]"
      ]
     },
     "execution_count": 192,
     "metadata": {},
     "output_type": "execute_result"
    },
    {
     "data": {
      "image/png": "[encoded data removed]",
      "text/plain": [
       "<Figure size 432x288 with 1 Axes>"
      ]
     },
     "metadata": {
      "needs_background": "light"
     },
     "output_type": "display_data"
    }
   ],
   "source": [
    "plt.plot(pixel_array, pixel_values)"
   ]
  },
  {
   "cell_type": "code",
   "execution_count": 198,
   "metadata": {},
   "outputs": [
    {
     "data": {
      "text/plain": [
       "(2560.0, 1280.0)"
      ]
     },
     "execution_count": 198,
     "metadata": {},
     "output_type": "execute_result"
    }
   ],
   "source": [
    "\n",
    "sim.Nospix, sim.Nospix//2"
   ]
  },
  {
   "cell_type": "code",
   "execution_count": null,
   "metadata": {},
   "outputs": [],
   "source": []
  },
  {
   "cell_type": "code",
   "execution_count": 199,
   "metadata": {},
   "outputs": [
    {
     "data": {
      "text/plain": [
       "0.000602594561526704"
      ]
     },
     "execution_count": 199,
     "metadata": {},
     "output_type": "execute_result"
    }
   ],
   "source": [
    "sim.galaxy_image['z'][0][1280]"
   ]
  },
  {
   "cell_type": "code",
   "execution_count": 197,
   "metadata": {},
   "outputs": [
    {
     "data": {
      "text/plain": [
       "3694"
      ]
     },
     "execution_count": 197,
     "metadata": {},
     "output_type": "execute_result"
    }
   ],
   "source": [
    "abs(pixel_values - 0.000602594561526704).argmin()"
   ]
  },
  {
   "cell_type": "code",
   "execution_count": 177,
   "metadata": {},
   "outputs": [
    {
     "data": {
      "text/plain": [
       "0.00021243275988452642"
      ]
     },
     "execution_count": 177,
     "metadata": {},
     "output_type": "execute_result"
    }
   ],
   "source": [
    "dwarf_data[-2,0,0]"
   ]
  },
  {
   "cell_type": "code",
   "execution_count": 176,
   "metadata": {},
   "outputs": [
    {
     "data": {
      "text/plain": [
       "{'g': '/Users/rgeda/project/local/harry/dwarf/data/s16a_deep/deepCoadd/HSC-G/9463/0,7/calexp-HSC-G-9463-0,7.fits.gz',\n",
       " 'r': '/Users/rgeda/project/local/harry/dwarf/data/s16a_deep/deepCoadd/HSC-R/9463/0,7/calexp-HSC-R-9463-0,7.fits.gz',\n",
       " 'i': '/Users/rgeda/project/local/harry/dwarf/data/s16a_deep/deepCoadd/HSC-I/9463/0,7/calexp-HSC-I-9463-0,7.fits.gz',\n",
       " 'z': '/Users/rgeda/project/local/harry/dwarf/data/s16a_deep/deepCoadd/HSC-Z/9463/0,7/calexp-HSC-Z-9463-0,7.fits.gz',\n",
       " 'y': '/Users/rgeda/project/local/harry/dwarf/data/s16a_deep/deepCoadd/HSC-Y/9463/0,7/calexp-HSC-Y-9463-0,7.fits.gz'}"
      ]
     },
     "execution_count": 176,
     "metadata": {},
     "output_type": "execute_result"
    }
   ],
   "source": [
    "patch.bands"
   ]
  },
  {
   "cell_type": "code",
   "execution_count": 114,
   "metadata": {},
   "outputs": [
    {
     "data": {
      "text/plain": [
       "0.0018384847044944762"
      ]
     },
     "execution_count": 114,
     "metadata": {},
     "output_type": "execute_result"
    }
   ],
   "source": [
    "sim.flux_fade_cutoff"
   ]
  },
  {
   "cell_type": "code",
   "execution_count": 108,
   "metadata": {},
   "outputs": [
    {
     "data": {
      "text/plain": [
       "array([2.70803623e-06, 2.67980915e-06, 2.65187629e-06, ...,\n",
       "       4.93491627e-29, 4.88347741e-29, 4.83257472e-29])"
      ]
     },
     "execution_count": 108,
     "metadata": {},
     "output_type": "execute_result"
    }
   ],
   "source": [
    "pixel_values"
   ]
  },
  {
   "cell_type": "code",
   "execution_count": 109,
   "metadata": {},
   "outputs": [
    {
     "data": {
      "text/plain": [
       "array([5.35669398e+00, 5.30085874e+00, 5.24560550e+00, ...,\n",
       "       9.76162577e-23, 9.65987594e-23, 9.55918669e-23])"
      ]
     },
     "execution_count": 109,
     "metadata": {},
     "output_type": "execute_result"
    }
   ],
   "source": [
    "sim.model1D(pixel_array)"
   ]
  },
  {
   "cell_type": "code",
   "execution_count": 126,
   "metadata": {},
   "outputs": [
    {
     "data": {
      "text/plain": [
       "0.00025813198700228935"
      ]
     },
     "execution_count": 126,
     "metadata": {},
     "output_type": "execute_result"
    }
   ],
   "source": [
    "sim.ttt"
   ]
  },
  {
   "cell_type": "code",
   "execution_count": 127,
   "metadata": {},
   "outputs": [
    {
     "data": {
      "text/plain": [
       "510.6039732269872"
      ]
     },
     "execution_count": 127,
     "metadata": {},
     "output_type": "execute_result"
    }
   ],
   "source": [
    "sim.sss"
   ]
  },
  {
   "cell_type": "code",
   "execution_count": 134,
   "metadata": {},
   "outputs": [],
   "source": [
    "pixel_values = sim.ttt/sim.sss*  sim.model1D(pixel_array)"
   ]
  },
  {
   "cell_type": "code",
   "execution_count": 135,
   "metadata": {},
   "outputs": [
    {
     "data": {
      "text/plain": [
       "array([2.70803623e-06, 2.70775250e-06, 2.70746879e-06, 2.70718511e-06,\n",
       "       2.70690146e-06, 2.70661784e-06, 2.70633426e-06, 2.70605070e-06,\n",
       "       2.70576717e-06, 2.70548367e-06, 2.70520020e-06, 2.70491676e-06,\n",
       "       2.70463335e-06, 2.70434997e-06, 2.70406661e-06, 2.70378329e-06,\n",
       "       2.70350000e-06, 2.70321674e-06, 2.70293351e-06, 2.70265030e-06,\n",
       "       2.70236713e-06, 2.70208399e-06, 2.70180087e-06, 2.70151779e-06,\n",
       "       2.70123474e-06, 2.70095171e-06, 2.70066872e-06, 2.70038575e-06,\n",
       "       2.70010281e-06, 2.69981991e-06, 2.69953703e-06, 2.69925418e-06,\n",
       "       2.69897137e-06, 2.69868858e-06, 2.69840582e-06, 2.69812309e-06,\n",
       "       2.69784040e-06, 2.69755773e-06, 2.69727509e-06, 2.69699248e-06,\n",
       "       2.69670990e-06, 2.69642735e-06, 2.69614482e-06, 2.69586233e-06,\n",
       "       2.69557987e-06, 2.69529744e-06, 2.69501504e-06, 2.69473266e-06,\n",
       "       2.69445032e-06, 2.69416801e-06, 2.69388572e-06, 2.69360347e-06,\n",
       "       2.69332124e-06, 2.69303905e-06, 2.69275688e-06, 2.69247474e-06,\n",
       "       2.69219264e-06, 2.69191056e-06, 2.69162851e-06, 2.69134649e-06,\n",
       "       2.69106450e-06, 2.69078255e-06, 2.69050062e-06, 2.69021872e-06,\n",
       "       2.68993684e-06, 2.68965500e-06, 2.68937319e-06, 2.68909141e-06,\n",
       "       2.68880966e-06, 2.68852794e-06, 2.68824624e-06, 2.68796458e-06,\n",
       "       2.68768294e-06, 2.68740134e-06, 2.68711976e-06, 2.68683822e-06,\n",
       "       2.68655670e-06, 2.68627521e-06, 2.68599376e-06, 2.68571233e-06,\n",
       "       2.68543093e-06, 2.68514956e-06, 2.68486822e-06, 2.68458691e-06,\n",
       "       2.68430563e-06, 2.68402438e-06, 2.68374316e-06, 2.68346197e-06,\n",
       "       2.68318080e-06, 2.68289967e-06, 2.68261857e-06, 2.68233749e-06,\n",
       "       2.68205645e-06, 2.68177543e-06, 2.68149445e-06, 2.68121349e-06,\n",
       "       2.68093256e-06, 2.68065167e-06, 2.68037080e-06, 2.68008996e-06,\n",
       "       2.67980915e-06, 2.67952837e-06, 2.67924762e-06, 2.67896690e-06,\n",
       "       2.67868621e-06, 2.67840555e-06, 2.67812491e-06, 2.67784431e-06,\n",
       "       2.67756374e-06, 2.67728319e-06, 2.67700268e-06, 2.67672219e-06,\n",
       "       2.67644173e-06, 2.67616131e-06, 2.67588091e-06, 2.67560054e-06,\n",
       "       2.67532020e-06, 2.67503989e-06, 2.67475961e-06, 2.67447936e-06,\n",
       "       2.67419914e-06, 2.67391895e-06, 2.67363878e-06, 2.67335865e-06,\n",
       "       2.67307855e-06, 2.67279847e-06, 2.67251843e-06, 2.67223841e-06,\n",
       "       2.67195842e-06, 2.67167847e-06, 2.67139854e-06, 2.67111864e-06,\n",
       "       2.67083877e-06, 2.67055893e-06, 2.67027912e-06, 2.66999934e-06,\n",
       "       2.66971959e-06, 2.66943986e-06, 2.66916017e-06, 2.66888051e-06,\n",
       "       2.66860087e-06, 2.66832127e-06, 2.66804169e-06, 2.66776214e-06,\n",
       "       2.66748263e-06, 2.66720314e-06, 2.66692368e-06, 2.66664425e-06,\n",
       "       2.66636485e-06, 2.66608548e-06, 2.66580613e-06, 2.66552682e-06,\n",
       "       2.66524754e-06, 2.66496828e-06, 2.66468906e-06, 2.66440986e-06,\n",
       "       2.66413070e-06, 2.66385156e-06, 2.66357245e-06, 2.66329337e-06,\n",
       "       2.66301432e-06, 2.66273530e-06, 2.66245631e-06, 2.66217735e-06,\n",
       "       2.66189842e-06, 2.66161952e-06, 2.66134064e-06, 2.66106180e-06,\n",
       "       2.66078298e-06, 2.66050420e-06, 2.66022544e-06, 2.65994671e-06,\n",
       "       2.65966801e-06, 2.65938934e-06, 2.65911070e-06, 2.65883209e-06,\n",
       "       2.65855351e-06, 2.65827496e-06, 2.65799643e-06, 2.65771794e-06,\n",
       "       2.65743947e-06, 2.65716104e-06, 2.65688263e-06, 2.65660425e-06,\n",
       "       2.65632590e-06, 2.65604758e-06, 2.65576929e-06, 2.65549103e-06,\n",
       "       2.65521280e-06, 2.65493460e-06, 2.65465642e-06, 2.65437828e-06,\n",
       "       2.65410016e-06, 2.65382208e-06, 2.65354402e-06, 2.65326599e-06,\n",
       "       2.65298799e-06, 2.65271002e-06, 2.65243208e-06, 2.65215417e-06,\n",
       "       2.65187629e-06, 2.65159844e-06, 2.65132061e-06, 2.65104282e-06,\n",
       "       2.65076505e-06, 2.65048732e-06, 2.65020961e-06, 2.64993193e-06,\n",
       "       2.64965428e-06, 2.64937666e-06, 2.64909907e-06, 2.64882151e-06,\n",
       "       2.64854397e-06, 2.64826647e-06, 2.64798899e-06, 2.64771155e-06,\n",
       "       2.64743413e-06, 2.64715674e-06, 2.64687938e-06, 2.64660206e-06,\n",
       "       2.64632475e-06, 2.64604748e-06, 2.64577024e-06, 2.64549303e-06,\n",
       "       2.64521584e-06, 2.64493869e-06, 2.64466156e-06, 2.64438446e-06,\n",
       "       2.64410740e-06, 2.64383036e-06, 2.64355335e-06, 2.64327637e-06,\n",
       "       2.64299941e-06, 2.64272249e-06, 2.64244560e-06, 2.64216873e-06,\n",
       "       2.64189190e-06, 2.64161509e-06, 2.64133831e-06, 2.64106156e-06,\n",
       "       2.64078484e-06, 2.64050815e-06, 2.64023149e-06, 2.63995485e-06,\n",
       "       2.63967825e-06, 2.63940168e-06, 2.63912513e-06, 2.63884861e-06,\n",
       "       2.63857212e-06, 2.63829566e-06, 2.63801923e-06, 2.63774283e-06,\n",
       "       2.63746646e-06, 2.63719012e-06, 2.63691380e-06, 2.63663752e-06,\n",
       "       2.63636126e-06, 2.63608503e-06, 2.63580883e-06, 2.63553267e-06,\n",
       "       2.63525652e-06, 2.63498041e-06, 2.63470433e-06, 2.63442828e-06,\n",
       "       2.63415225e-06, 2.63387625e-06, 2.63360029e-06, 2.63332435e-06,\n",
       "       2.63304844e-06, 2.63277256e-06, 2.63249671e-06, 2.63222089e-06,\n",
       "       2.63194509e-06, 2.63166933e-06, 2.63139359e-06, 2.63111788e-06,\n",
       "       2.63084221e-06, 2.63056656e-06, 2.63029094e-06, 2.63001534e-06,\n",
       "       2.62973978e-06, 2.62946425e-06, 2.62918874e-06, 2.62891327e-06,\n",
       "       2.62863782e-06, 2.62836240e-06, 2.62808701e-06, 2.62781165e-06,\n",
       "       2.62753632e-06, 2.62726102e-06, 2.62698574e-06, 2.62671050e-06,\n",
       "       2.62643528e-06, 2.62616009e-06, 2.62588493e-06, 2.62560980e-06,\n",
       "       2.62533470e-06, 2.62505963e-06, 2.62478459e-06, 2.62450957e-06,\n",
       "       2.62423459e-06, 2.62395963e-06, 2.62368470e-06, 2.62340980e-06,\n",
       "       2.62313493e-06, 2.62286009e-06, 2.62258528e-06, 2.62231049e-06,\n",
       "       2.62203574e-06, 2.62176101e-06, 2.62148631e-06, 2.62121164e-06,\n",
       "       2.62093700e-06, 2.62066239e-06, 2.62038781e-06, 2.62011326e-06,\n",
       "       2.61983873e-06, 2.61956423e-06, 2.61928977e-06, 2.61901533e-06,\n",
       "       2.61874092e-06, 2.61846654e-06, 2.61819218e-06, 2.61791786e-06,\n",
       "       2.61764356e-06, 2.61736930e-06, 2.61709506e-06, 2.61682085e-06,\n",
       "       2.61654667e-06, 2.61627252e-06, 2.61599840e-06, 2.61572430e-06,\n",
       "       2.61545024e-06, 2.61517620e-06, 2.61490219e-06, 2.61462821e-06,\n",
       "       2.61435426e-06, 2.61408034e-06, 2.61380645e-06, 2.61353258e-06,\n",
       "       2.61325875e-06, 2.61298494e-06, 2.61271116e-06, 2.61243741e-06,\n",
       "       2.61216369e-06, 2.61189000e-06, 2.61161634e-06, 2.61134270e-06,\n",
       "       2.61106910e-06, 2.61079552e-06, 2.61052197e-06, 2.61024845e-06,\n",
       "       2.60997496e-06, 2.60970149e-06, 2.60942806e-06, 2.60915465e-06,\n",
       "       2.60888128e-06, 2.60860793e-06, 2.60833461e-06, 2.60806132e-06,\n",
       "       2.60778806e-06, 2.60751482e-06, 2.60724162e-06, 2.60696844e-06,\n",
       "       2.60669529e-06, 2.60642217e-06, 2.60614908e-06, 2.60587602e-06,\n",
       "       2.60560299e-06, 2.60532998e-06, 2.60505701e-06, 2.60478406e-06,\n",
       "       2.60451114e-06, 2.60423825e-06, 2.60396539e-06, 2.60369255e-06,\n",
       "       2.60341975e-06, 2.60314697e-06, 2.60287423e-06, 2.60260151e-06,\n",
       "       2.60232882e-06, 2.60205615e-06, 2.60178352e-06, 2.60151092e-06,\n",
       "       2.60123834e-06, 2.60096579e-06, 2.60069327e-06, 2.60042078e-06,\n",
       "       2.60014832e-06, 2.59987589e-06, 2.59960348e-06, 2.59933111e-06,\n",
       "       2.59905876e-06, 2.59878644e-06, 2.59851415e-06, 2.59824189e-06,\n",
       "       2.59796965e-06, 2.59769745e-06, 2.59742527e-06, 2.59715313e-06,\n",
       "       2.59688101e-06, 2.59660891e-06, 2.59633685e-06, 2.59606482e-06,\n",
       "       2.59579281e-06, 2.59552084e-06, 2.59524889e-06, 2.59497697e-06,\n",
       "       2.59470508e-06, 2.59443321e-06, 2.59416138e-06, 2.59388957e-06,\n",
       "       2.59361779e-06, 2.59334605e-06, 2.59307432e-06, 2.59280263e-06,\n",
       "       2.59253097e-06, 2.59225933e-06, 2.59198773e-06, 2.59171615e-06,\n",
       "       2.59144460e-06, 2.59117308e-06, 2.59090158e-06, 2.59063012e-06,\n",
       "       2.59035868e-06, 2.59008728e-06, 2.58981590e-06, 2.58954455e-06,\n",
       "       2.58927322e-06, 2.58900193e-06, 2.58873067e-06, 2.58845943e-06,\n",
       "       2.58818822e-06, 2.58791704e-06, 2.58764589e-06, 2.58737476e-06,\n",
       "       2.58710367e-06, 2.58683260e-06, 2.58656156e-06, 2.58629055e-06,\n",
       "       2.58601957e-06, 2.58574862e-06, 2.58547770e-06, 2.58520680e-06,\n",
       "       2.58493593e-06, 2.58466509e-06, 2.58439428e-06, 2.58412350e-06,\n",
       "       2.58385274e-06, 2.58358202e-06, 2.58331132e-06, 2.58304065e-06,\n",
       "       2.58277001e-06, 2.58249940e-06, 2.58222881e-06, 2.58195826e-06,\n",
       "       2.58168773e-06, 2.58141723e-06, 2.58114676e-06, 2.58087632e-06,\n",
       "       2.58060590e-06, 2.58033552e-06, 2.58006516e-06, 2.57979483e-06,\n",
       "       2.57952453e-06, 2.57925426e-06, 2.57898402e-06, 2.57871380e-06,\n",
       "       2.57844361e-06, 2.57817345e-06, 2.57790332e-06, 2.57763322e-06,\n",
       "       2.57736314e-06, 2.57709310e-06, 2.57682308e-06, 2.57655309e-06,\n",
       "       2.57628313e-06, 2.57601320e-06, 2.57574329e-06, 2.57547342e-06,\n",
       "       2.57520357e-06, 2.57493375e-06, 2.57466396e-06, 2.57439419e-06,\n",
       "       2.57412446e-06, 2.57385475e-06, 2.57358507e-06, 2.57331542e-06,\n",
       "       2.57304580e-06, 2.57277621e-06, 2.57250664e-06, 2.57223711e-06,\n",
       "       2.57196760e-06, 2.57169812e-06, 2.57142866e-06, 2.57115924e-06,\n",
       "       2.57088984e-06, 2.57062048e-06, 2.57035114e-06, 2.57008183e-06])"
      ]
     },
     "execution_count": 135,
     "metadata": {},
     "output_type": "execute_result"
    }
   ],
   "source": [
    "pixel_values"
   ]
  },
  {
   "cell_type": "code",
   "execution_count": 122,
   "metadata": {},
   "outputs": [
    {
     "data": {
      "text/plain": [
       "20.125673867169507"
      ]
     },
     "execution_count": 122,
     "metadata": {},
     "output_type": "execute_result"
    }
   ],
   "source": [
    "observed_cts_per_sec(sim.sss, sim.distance, sim.zpt['z'])"
   ]
  },
  {
   "cell_type": "code",
   "execution_count": 125,
   "metadata": {},
   "outputs": [
    {
     "data": {
      "text/plain": [
       "0.006549008945004975"
      ]
     },
     "execution_count": 125,
     "metadata": {},
     "output_type": "execute_result"
    }
   ],
   "source": [
    "sim.smooth_flux['z']"
   ]
  },
  {
   "cell_type": "code",
   "execution_count": 150,
   "metadata": {},
   "outputs": [
    {
     "data": {
      "text/plain": [
       "1.2482181348745214"
      ]
     },
     "execution_count": 150,
     "metadata": {},
     "output_type": "execute_result"
    }
   ],
   "source": [
    "dwarf_data.max()"
   ]
  },
  {
   "cell_type": "code",
   "execution_count": 152,
   "metadata": {},
   "outputs": [
    {
     "data": {
      "text/plain": [
       "{'g': 15303.650740040248,\n",
       " 'r': 19007.98917743851,\n",
       " 'i': 20030.41591958239,\n",
       " 'z': 17475.322374173553,\n",
       " 'y': 19483.6949730106}"
      ]
     },
     "execution_count": 152,
     "metadata": {},
     "output_type": "execute_result"
    }
   ],
   "source": [
    "sim.observed_smooth_flux"
   ]
  },
  {
   "cell_type": "code",
   "execution_count": 94,
   "metadata": {},
   "outputs": [
    {
     "ename": "AttributeError",
     "evalue": "'PSFFitSimulateDwarfElliptical' object has no attribute 're_pixels'",
     "output_type": "error",
     "traceback": [
      "\u001b[0;31m---------------------------------------------------------------------------\u001b[0m",
      "\u001b[0;31mAttributeError\u001b[0m                            Traceback (most recent call last)",
      "\u001b[0;32m<ipython-input-94-5e8cddf14196>\u001b[0m in \u001b[0;36m<module>\u001b[0;34m\u001b[0m\n\u001b[1;32m      1\u001b[0m model = DwarfSersic2D(\n\u001b[1;32m      2\u001b[0m             \u001b[0mamplitude\u001b[0m\u001b[0;34m=\u001b[0m\u001b[0;36m1\u001b[0m\u001b[0;34m,\u001b[0m\u001b[0;34m\u001b[0m\u001b[0;34m\u001b[0m\u001b[0m\n\u001b[0;32m----> 3\u001b[0;31m             \u001b[0mr_eff\u001b[0m\u001b[0;34m=\u001b[0m\u001b[0msim\u001b[0m\u001b[0;34m.\u001b[0m\u001b[0mre_pixels\u001b[0m\u001b[0;34m,\u001b[0m\u001b[0;34m\u001b[0m\u001b[0;34m\u001b[0m\u001b[0m\n\u001b[0m\u001b[1;32m      4\u001b[0m             \u001b[0mn\u001b[0m\u001b[0;34m=\u001b[0m\u001b[0;36m1\u001b[0m\u001b[0;34m,\u001b[0m\u001b[0;34m\u001b[0m\u001b[0;34m\u001b[0m\u001b[0m\n\u001b[1;32m      5\u001b[0m             \u001b[0mx_0\u001b[0m\u001b[0;34m=\u001b[0m\u001b[0msim\u001b[0m\u001b[0;34m.\u001b[0m\u001b[0mNospix\u001b[0m\u001b[0;34m//\u001b[0m\u001b[0;36m2\u001b[0m\u001b[0;34m,\u001b[0m\u001b[0my_0\u001b[0m\u001b[0;34m=\u001b[0m\u001b[0msim\u001b[0m\u001b[0;34m.\u001b[0m\u001b[0mNospix\u001b[0m\u001b[0;34m//\u001b[0m\u001b[0;36m2\u001b[0m\u001b[0;34m,\u001b[0m\u001b[0;34m\u001b[0m\u001b[0;34m\u001b[0m\u001b[0m\n",
      "\u001b[0;31mAttributeError\u001b[0m: 'PSFFitSimulateDwarfElliptical' object has no attribute 're_pixels'"
     ]
    }
   ],
   "source": [
    "model = DwarfSersic2D(\n",
    "            amplitude=1,\n",
    "            r_eff=sim.re_pixels,\n",
    "            n=1,\n",
    "            x_0=sim.Nospix//2,y_0=sim.Nospix//2,\n",
    "            ellip=0.5,\n",
    "            theta=0)"
   ]
  },
  {
   "cell_type": "code",
   "execution_count": null,
   "metadata": {},
   "outputs": [],
   "source": []
  }
 ],
 "metadata": {
  "kernelspec": {
   "display_name": "Python 3",
   "language": "python",
   "name": "python3"
  },
  "language_info": {
   "codemirror_mode": {
    "name": "ipython",
    "version": 3
   },
   "file_extension": ".py",
   "mimetype": "text/x-python",
   "name": "python",
   "nbconvert_exporter": "python",
   "pygments_lexer": "ipython3",
   "version": "3.7.3"
  }
 },
 "nbformat": 4,
 "nbformat_minor": 2
}
